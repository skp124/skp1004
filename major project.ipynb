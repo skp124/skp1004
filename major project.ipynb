{
 "cells": [
  {
   "cell_type": "markdown",
   "id": "c38f3959",
   "metadata": {},
   "source": [
    "## Retail Analysis with Walmart Data"
   ]
  },
  {
   "cell_type": "code",
   "execution_count": 1,
   "id": "ffd51400",
   "metadata": {},
   "outputs": [],
   "source": [
    "import pandas as pd\n",
    "import numpy as np"
   ]
  },
  {
   "cell_type": "code",
   "execution_count": 4,
   "id": "003b62e8",
   "metadata": {},
   "outputs": [
    {
     "data": {
      "text/html": [
       "<div>\n",
       "<style scoped>\n",
       "    .dataframe tbody tr th:only-of-type {\n",
       "        vertical-align: middle;\n",
       "    }\n",
       "\n",
       "    .dataframe tbody tr th {\n",
       "        vertical-align: top;\n",
       "    }\n",
       "\n",
       "    .dataframe thead th {\n",
       "        text-align: right;\n",
       "    }\n",
       "</style>\n",
       "<table border=\"1\" class=\"dataframe\">\n",
       "  <thead>\n",
       "    <tr style=\"text-align: right;\">\n",
       "      <th></th>\n",
       "      <th>Store</th>\n",
       "      <th>Date</th>\n",
       "      <th>Weekly_Sales</th>\n",
       "      <th>Holiday_Flag</th>\n",
       "      <th>Temperature</th>\n",
       "      <th>Fuel_Price</th>\n",
       "      <th>CPI</th>\n",
       "      <th>Unemployment</th>\n",
       "    </tr>\n",
       "  </thead>\n",
       "  <tbody>\n",
       "    <tr>\n",
       "      <th>0</th>\n",
       "      <td>1</td>\n",
       "      <td>05-02-2010</td>\n",
       "      <td>1643690.90</td>\n",
       "      <td>0</td>\n",
       "      <td>42.31</td>\n",
       "      <td>2.572</td>\n",
       "      <td>211.096358</td>\n",
       "      <td>8.106</td>\n",
       "    </tr>\n",
       "    <tr>\n",
       "      <th>1</th>\n",
       "      <td>1</td>\n",
       "      <td>12-02-2010</td>\n",
       "      <td>1641957.44</td>\n",
       "      <td>1</td>\n",
       "      <td>38.51</td>\n",
       "      <td>2.548</td>\n",
       "      <td>211.242170</td>\n",
       "      <td>8.106</td>\n",
       "    </tr>\n",
       "    <tr>\n",
       "      <th>2</th>\n",
       "      <td>1</td>\n",
       "      <td>19-02-2010</td>\n",
       "      <td>1611968.17</td>\n",
       "      <td>0</td>\n",
       "      <td>39.93</td>\n",
       "      <td>2.514</td>\n",
       "      <td>211.289143</td>\n",
       "      <td>8.106</td>\n",
       "    </tr>\n",
       "    <tr>\n",
       "      <th>3</th>\n",
       "      <td>1</td>\n",
       "      <td>26-02-2010</td>\n",
       "      <td>1409727.59</td>\n",
       "      <td>0</td>\n",
       "      <td>46.63</td>\n",
       "      <td>2.561</td>\n",
       "      <td>211.319643</td>\n",
       "      <td>8.106</td>\n",
       "    </tr>\n",
       "    <tr>\n",
       "      <th>4</th>\n",
       "      <td>1</td>\n",
       "      <td>05-03-2010</td>\n",
       "      <td>1554806.68</td>\n",
       "      <td>0</td>\n",
       "      <td>46.50</td>\n",
       "      <td>2.625</td>\n",
       "      <td>211.350143</td>\n",
       "      <td>8.106</td>\n",
       "    </tr>\n",
       "  </tbody>\n",
       "</table>\n",
       "</div>"
      ],
      "text/plain": [
       "   Store        Date  Weekly_Sales  Holiday_Flag  Temperature  Fuel_Price  \\\n",
       "0      1  05-02-2010    1643690.90             0        42.31       2.572   \n",
       "1      1  12-02-2010    1641957.44             1        38.51       2.548   \n",
       "2      1  19-02-2010    1611968.17             0        39.93       2.514   \n",
       "3      1  26-02-2010    1409727.59             0        46.63       2.561   \n",
       "4      1  05-03-2010    1554806.68             0        46.50       2.625   \n",
       "\n",
       "          CPI  Unemployment  \n",
       "0  211.096358         8.106  \n",
       "1  211.242170         8.106  \n",
       "2  211.289143         8.106  \n",
       "3  211.319643         8.106  \n",
       "4  211.350143         8.106  "
      ]
     },
     "execution_count": 4,
     "metadata": {},
     "output_type": "execute_result"
    }
   ],
   "source": [
    "df_wss = pd.read_csv(r'C:\\Users\\shrab\\Downloads\\Walmart_Store_sales.csv')\n",
    "df_wss.head()"
   ]
  },
  {
   "cell_type": "code",
   "execution_count": 5,
   "id": "fa2fecbb",
   "metadata": {},
   "outputs": [
    {
     "data": {
      "text/plain": [
       "(6435, 8)"
      ]
     },
     "execution_count": 5,
     "metadata": {},
     "output_type": "execute_result"
    }
   ],
   "source": [
    "df_wss.shape"
   ]
  },
  {
   "cell_type": "code",
   "execution_count": 6,
   "id": "37ae8942",
   "metadata": {},
   "outputs": [
    {
     "data": {
      "text/plain": [
       "Store           0\n",
       "Date            0\n",
       "Weekly_Sales    0\n",
       "Holiday_Flag    0\n",
       "Temperature     0\n",
       "Fuel_Price      0\n",
       "CPI             0\n",
       "Unemployment    0\n",
       "dtype: int64"
      ]
     },
     "execution_count": 6,
     "metadata": {},
     "output_type": "execute_result"
    }
   ],
   "source": [
    "df_wss.isnull().sum()"
   ]
  },
  {
   "cell_type": "code",
   "execution_count": 7,
   "id": "a77dadc9",
   "metadata": {},
   "outputs": [
    {
     "data": {
      "text/html": [
       "<div>\n",
       "<style scoped>\n",
       "    .dataframe tbody tr th:only-of-type {\n",
       "        vertical-align: middle;\n",
       "    }\n",
       "\n",
       "    .dataframe tbody tr th {\n",
       "        vertical-align: top;\n",
       "    }\n",
       "\n",
       "    .dataframe thead th {\n",
       "        text-align: right;\n",
       "    }\n",
       "</style>\n",
       "<table border=\"1\" class=\"dataframe\">\n",
       "  <thead>\n",
       "    <tr style=\"text-align: right;\">\n",
       "      <th></th>\n",
       "      <th>Store</th>\n",
       "      <th>Weekly_Sales</th>\n",
       "      <th>Holiday_Flag</th>\n",
       "      <th>Temperature</th>\n",
       "      <th>Fuel_Price</th>\n",
       "      <th>CPI</th>\n",
       "      <th>Unemployment</th>\n",
       "    </tr>\n",
       "  </thead>\n",
       "  <tbody>\n",
       "    <tr>\n",
       "      <th>count</th>\n",
       "      <td>6435.000000</td>\n",
       "      <td>6.435000e+03</td>\n",
       "      <td>6435.000000</td>\n",
       "      <td>6435.000000</td>\n",
       "      <td>6435.000000</td>\n",
       "      <td>6435.000000</td>\n",
       "      <td>6435.000000</td>\n",
       "    </tr>\n",
       "    <tr>\n",
       "      <th>mean</th>\n",
       "      <td>23.000000</td>\n",
       "      <td>1.046965e+06</td>\n",
       "      <td>0.069930</td>\n",
       "      <td>60.663782</td>\n",
       "      <td>3.358607</td>\n",
       "      <td>171.578394</td>\n",
       "      <td>7.999151</td>\n",
       "    </tr>\n",
       "    <tr>\n",
       "      <th>std</th>\n",
       "      <td>12.988182</td>\n",
       "      <td>5.643666e+05</td>\n",
       "      <td>0.255049</td>\n",
       "      <td>18.444933</td>\n",
       "      <td>0.459020</td>\n",
       "      <td>39.356712</td>\n",
       "      <td>1.875885</td>\n",
       "    </tr>\n",
       "    <tr>\n",
       "      <th>min</th>\n",
       "      <td>1.000000</td>\n",
       "      <td>2.099862e+05</td>\n",
       "      <td>0.000000</td>\n",
       "      <td>-2.060000</td>\n",
       "      <td>2.472000</td>\n",
       "      <td>126.064000</td>\n",
       "      <td>3.879000</td>\n",
       "    </tr>\n",
       "    <tr>\n",
       "      <th>25%</th>\n",
       "      <td>12.000000</td>\n",
       "      <td>5.533501e+05</td>\n",
       "      <td>0.000000</td>\n",
       "      <td>47.460000</td>\n",
       "      <td>2.933000</td>\n",
       "      <td>131.735000</td>\n",
       "      <td>6.891000</td>\n",
       "    </tr>\n",
       "    <tr>\n",
       "      <th>50%</th>\n",
       "      <td>23.000000</td>\n",
       "      <td>9.607460e+05</td>\n",
       "      <td>0.000000</td>\n",
       "      <td>62.670000</td>\n",
       "      <td>3.445000</td>\n",
       "      <td>182.616521</td>\n",
       "      <td>7.874000</td>\n",
       "    </tr>\n",
       "    <tr>\n",
       "      <th>75%</th>\n",
       "      <td>34.000000</td>\n",
       "      <td>1.420159e+06</td>\n",
       "      <td>0.000000</td>\n",
       "      <td>74.940000</td>\n",
       "      <td>3.735000</td>\n",
       "      <td>212.743293</td>\n",
       "      <td>8.622000</td>\n",
       "    </tr>\n",
       "    <tr>\n",
       "      <th>max</th>\n",
       "      <td>45.000000</td>\n",
       "      <td>3.818686e+06</td>\n",
       "      <td>1.000000</td>\n",
       "      <td>100.140000</td>\n",
       "      <td>4.468000</td>\n",
       "      <td>227.232807</td>\n",
       "      <td>14.313000</td>\n",
       "    </tr>\n",
       "  </tbody>\n",
       "</table>\n",
       "</div>"
      ],
      "text/plain": [
       "             Store  Weekly_Sales  Holiday_Flag  Temperature   Fuel_Price  \\\n",
       "count  6435.000000  6.435000e+03   6435.000000  6435.000000  6435.000000   \n",
       "mean     23.000000  1.046965e+06      0.069930    60.663782     3.358607   \n",
       "std      12.988182  5.643666e+05      0.255049    18.444933     0.459020   \n",
       "min       1.000000  2.099862e+05      0.000000    -2.060000     2.472000   \n",
       "25%      12.000000  5.533501e+05      0.000000    47.460000     2.933000   \n",
       "50%      23.000000  9.607460e+05      0.000000    62.670000     3.445000   \n",
       "75%      34.000000  1.420159e+06      0.000000    74.940000     3.735000   \n",
       "max      45.000000  3.818686e+06      1.000000   100.140000     4.468000   \n",
       "\n",
       "               CPI  Unemployment  \n",
       "count  6435.000000   6435.000000  \n",
       "mean    171.578394      7.999151  \n",
       "std      39.356712      1.875885  \n",
       "min     126.064000      3.879000  \n",
       "25%     131.735000      6.891000  \n",
       "50%     182.616521      7.874000  \n",
       "75%     212.743293      8.622000  \n",
       "max     227.232807     14.313000  "
      ]
     },
     "execution_count": 7,
     "metadata": {},
     "output_type": "execute_result"
    }
   ],
   "source": [
    "df_wss.describe()"
   ]
  },
  {
   "cell_type": "markdown",
   "id": "d7417713",
   "metadata": {},
   "source": [
    "## Basic Statistics tasks"
   ]
  },
  {
   "cell_type": "markdown",
   "id": "40147b1a",
   "metadata": {},
   "source": [
    "## Which store has maximum sales"
   ]
  },
  {
   "cell_type": "code",
   "execution_count": 9,
   "id": "1d952892",
   "metadata": {},
   "outputs": [
    {
     "name": "stdout",
     "output_type": "stream",
     "text": [
      "(45,)\n",
      "Store\n",
      "1    2.224028e+08\n",
      "2    2.753824e+08\n",
      "3    5.758674e+07\n",
      "4    2.995440e+08\n",
      "5    4.547569e+07\n",
      "Name: Weekly_Sales, dtype: float64\n"
     ]
    }
   ],
   "source": [
    "df_groupby = df_wss.groupby('Store')['Weekly_Sales'].sum()\n",
    "print(df_groupby.shape)\n",
    "print(df_groupby.head())"
   ]
  },
  {
   "cell_type": "code",
   "execution_count": 10,
   "id": "83650b19",
   "metadata": {},
   "outputs": [
    {
     "name": "stdout",
     "output_type": "stream",
     "text": [
      " Store with maximum sales:  20\n"
     ]
    }
   ],
   "source": [
    "print( ' Store with maximum sales: ', df_groupby.idxmax())"
   ]
  },
  {
   "cell_type": "markdown",
   "id": "a7c622b0",
   "metadata": {},
   "source": [
    "## Which store has maximum standard deviation i.e., the sales vary a lot. Also, find out the coefficient of mean to standard deviation"
   ]
  },
  {
   "cell_type": "code",
   "execution_count": 11,
   "id": "479dbaac",
   "metadata": {},
   "outputs": [
    {
     "name": "stdout",
     "output_type": "stream",
     "text": [
      "(45,)\n",
      "Store\n",
      "1     155980.767761\n",
      "2     237683.694682\n",
      "3      46319.631557\n",
      "4     266201.442297\n",
      "5      37737.965745\n",
      "6     212525.855862\n",
      "7     112585.469220\n",
      "8     106280.829881\n",
      "9      69028.666585\n",
      "10    302262.062504\n",
      "11    165833.887863\n",
      "12    139166.871880\n",
      "13    265506.995776\n",
      "14    317569.949476\n",
      "15    120538.652043\n",
      "16     85769.680133\n",
      "17    112162.936087\n",
      "18    176641.510839\n",
      "19    191722.638730\n",
      "20    275900.562742\n",
      "21    128752.812853\n",
      "22    161251.350631\n",
      "23    249788.038068\n",
      "24    167745.677567\n",
      "25    112976.788600\n",
      "26    110431.288141\n",
      "27    239930.135688\n",
      "28    181758.967539\n",
      "29     99120.136596\n",
      "30     22809.665590\n",
      "31    125855.942933\n",
      "32    138017.252087\n",
      "33     24132.927322\n",
      "34    104630.164676\n",
      "35    211243.457791\n",
      "36     60725.173579\n",
      "37     21837.461190\n",
      "38     42768.169450\n",
      "39    217466.454833\n",
      "40    119002.112858\n",
      "41    187907.162766\n",
      "42     50262.925530\n",
      "43     40598.413260\n",
      "44     24762.832015\n",
      "45    130168.526635\n",
      "Name: Weekly_Sales, dtype: float64\n"
     ]
    }
   ],
   "source": [
    "df_groupstd = df_wss.groupby('Store')['Weekly_Sales'].std()\n",
    "print(df_groupstd.shape)\n",
    "print(df_groupstd)"
   ]
  },
  {
   "cell_type": "code",
   "execution_count": 12,
   "id": "95b7bf56",
   "metadata": {},
   "outputs": [
    {
     "name": "stdout",
     "output_type": "stream",
     "text": [
      "Store with maximum standard deviation:  14\n"
     ]
    }
   ],
   "source": [
    "print(  'Store with maximum standard deviation: ', df_groupstd.idxmax())"
   ]
  },
  {
   "cell_type": "code",
   "execution_count": 14,
   "id": "42c45ec1",
   "metadata": {},
   "outputs": [
    {
     "name": "stdout",
     "output_type": "stream",
     "text": [
      "(45,)\n",
      "Coefficient of variation of Weekly Sales:  13.523458876035269\n"
     ]
    }
   ],
   "source": [
    "df_groupmean = df_wss.groupby('Store')['Weekly_Sales'].mean()\n",
    "print(df_groupmean.shape)\n",
    "cms = (df_groupstd.sum() / df_groupmean.sum()) * 100\n",
    "print('Coefficient of variation of Weekly Sales: ', cms)"
   ]
  },
  {
   "cell_type": "markdown",
   "id": "872a3f06",
   "metadata": {},
   "source": [
    "## Which store/s has good quarterly growth rate in Q3’2012"
   ]
  },
  {
   "cell_type": "code",
   "execution_count": 17,
   "id": "b72995cc",
   "metadata": {},
   "outputs": [
    {
     "name": "stdout",
     "output_type": "stream",
     "text": [
      "Store Number with maximum sales in Q3'2012:  4\n"
     ]
    }
   ],
   "source": [
    "df_Q3_2012 = df_wss[\n",
    "\t(pd.to_datetime(df_wss['Date'], dayfirst=True) >= pd.to_datetime('01-07-2012', dayfirst=True)) &\n",
    "\t(pd.to_datetime(df_wss['Date'], dayfirst=True) <= pd.to_datetime('30-09-2012', dayfirst=True))\n",
    "]\n",
    "df_wss_growth = df_Q3_2012.groupby('Store')['Weekly_Sales'].sum()\n",
    "print(\"Store Number with maximum sales in Q3'2012: \", df_wss_growth.idxmax())"
   ]
  },
  {
   "cell_type": "markdown",
   "id": "ead6b47e",
   "metadata": {},
   "source": [
    "## Some holidays have a negative impact on sales."
   ]
  },
  {
   "cell_type": "markdown",
   "id": "50896ed0",
   "metadata": {},
   "source": [
    "## Find out holidays which have higher sales than the mean sales in non-holiday season for all stores together"
   ]
  },
  {
   "cell_type": "code",
   "execution_count": 18,
   "id": "c67402f8",
   "metadata": {},
   "outputs": [],
   "source": [
    "stores_holiday_sales = df_wss[df_wss['Holiday_Flag'] == 0]\n",
    "\n",
    "stores_nonholiday_sales = df_wss[df_wss['Holiday_Flag'] == 1]"
   ]
  },
  {
   "cell_type": "code",
   "execution_count": 21,
   "id": "148e100a",
   "metadata": {},
   "outputs": [],
   "source": [
    "stores_holiday_sales_mean = df_wss[(df_wss['Holiday_Flag'] == 0)]['Weekly_Sales'].mean()\n",
    "stores_nonholiday_sales_mean = df_wss[(df_wss['Holiday_Flag'] == 1)].groupby('Date')['Weekly_Sales'].mean()"
   ]
  },
  {
   "cell_type": "code",
   "execution_count": 23,
   "id": "1d4be57a",
   "metadata": {},
   "outputs": [
    {
     "name": "stdout",
     "output_type": "stream",
     "text": [
      "Date\n",
      "07-09-2012    1.074001e+06\n",
      "10-02-2012    1.111320e+06\n",
      "11-02-2011    1.051915e+06\n",
      "12-02-2010    1.074148e+06\n",
      "25-11-2011    1.479858e+06\n",
      "26-11-2010    1.462689e+06\n",
      "Name: Weekly_Sales, dtype: float64\n"
     ]
    }
   ],
   "source": [
    "# Find holiday dates where mean sales are higher than the mean of non-holiday sales\n",
    "higher_holiday_sales = stores_nonholiday_sales_mean[stores_nonholiday_sales_mean > stores_holiday_sales_mean]\n",
    "print(higher_holiday_sales)"
   ]
  },
  {
   "cell_type": "markdown",
   "id": "1a19f3ff",
   "metadata": {},
   "source": [
    "## Provide a monthly and semester view of sales in units and give insights"
   ]
  },
  {
   "cell_type": "code",
   "execution_count": 25,
   "id": "1ba9b38b",
   "metadata": {},
   "outputs": [
    {
     "name": "stdout",
     "output_type": "stream",
     "text": [
      "Monthly Sales:\n",
      " Year  Month  \n",
      "2010  2010-02    1.903330e+08\n",
      "      2010-03    1.819198e+08\n",
      "      2010-04    2.314124e+08\n",
      "      2010-05    1.867109e+08\n",
      "      2010-06    1.922462e+08\n",
      "      2010-07    2.325801e+08\n",
      "      2010-08    1.876401e+08\n",
      "      2010-09    1.772679e+08\n",
      "      2010-10    2.171618e+08\n",
      "      2010-11    2.028534e+08\n",
      "      2010-12    2.887605e+08\n",
      "2011  2011-01    1.637040e+08\n",
      "      2011-02    1.863313e+08\n",
      "      2011-03    1.793564e+08\n",
      "      2011-04    2.265265e+08\n",
      "      2011-05    1.816482e+08\n",
      "      2011-06    1.897734e+08\n",
      "      2011-07    2.299114e+08\n",
      "      2011-08    1.885993e+08\n",
      "      2011-09    2.208477e+08\n",
      "      2011-10    1.832613e+08\n",
      "      2011-11    2.101624e+08\n",
      "      2011-12    2.880781e+08\n",
      "2012  2012-01    1.688945e+08\n",
      "      2012-02    1.920636e+08\n",
      "      2012-03    2.315097e+08\n",
      "      2012-04    1.889209e+08\n",
      "      2012-05    1.887665e+08\n",
      "      2012-06    2.406103e+08\n",
      "      2012-07    1.875095e+08\n",
      "      2012-08    2.368508e+08\n",
      "      2012-09    1.806455e+08\n",
      "      2012-10    1.843617e+08\n",
      "Name: Weekly_Sales, dtype: float64\n",
      "\n",
      "Semester Sales:\n",
      " Year  Semester\n",
      "2010  1           9.826223e+08\n",
      "      2           1.306264e+09\n",
      "2011  1           1.127340e+09\n",
      "      2           1.320860e+09\n",
      "2012  1           1.210765e+09\n",
      "      2           7.893674e+08\n",
      "Name: Weekly_Sales, dtype: float64\n"
     ]
    }
   ],
   "source": [
    "# Convert 'Date' column to datetime if not already\n",
    "df_wss[\"Date\"] = pd.to_datetime(df_wss[\"Date\"], dayfirst=True)\n",
    "\n",
    "df_wss[\"Month\"] = df_wss[\"Date\"].dt.to_period(\"M\")\n",
    "df_wss[\"Semester\"] = df_wss[\"Date\"].dt.month.apply(lambda x: 1 if x <= 6 else 2)\n",
    "df_wss[\"Year\"] = df_wss[\"Date\"].dt.year\n",
    "\n",
    "monthly_sales = df_wss.groupby([\"Year\", \"Month\"])[\"Weekly_Sales\"].sum()\n",
    "semester_sales = df_wss.groupby([\"Year\", \"Semester\"])[\"Weekly_Sales\"].sum()\n",
    "\n",
    "print(\"Monthly Sales:\\n\", monthly_sales)\n",
    "print(\"\\nSemester Sales:\\n\", semester_sales)\n"
   ]
  },
  {
   "cell_type": "markdown",
   "id": "e10aeefa",
   "metadata": {},
   "source": [
    "## Statistical Model\n",
    "\n",
    "## For Store 1 – Build prediction models to forecast demand\n",
    "\n",
    "## Linear Regression – Utilize variables like date and restructure dates as 1 for 5 Feb 2010 (starting from the earliest date in order). Hypothesize if CPI, unemployment, and fuel price have any impact on sales.\n"
   ]
  },
  {
   "cell_type": "code",
   "execution_count": 27,
   "id": "caa3dea9",
   "metadata": {},
   "outputs": [],
   "source": [
    "store1 = df_wss[df_wss[\"Store\"] == 1].copy()\n",
    "store1 = store1.sort_values(\"Date\")\n",
    "store1[\"Day_Index\"] = range(1, len(store1) + 1)\n"
   ]
  },
  {
   "cell_type": "code",
   "execution_count": 31,
   "id": "c5be2326",
   "metadata": {},
   "outputs": [
    {
     "name": "stdout",
     "output_type": "stream",
     "text": [
      "Requirement already satisfied: statsmodels in c:\\users\\shrab\\appdata\\local\\programs\\python\\python39\\lib\\site-packages (0.14.4)\n",
      "Requirement already satisfied: packaging>=21.3 in c:\\users\\shrab\\appdata\\roaming\\python\\python39\\site-packages (from statsmodels) (24.2)\n",
      "Requirement already satisfied: pandas!=2.1.0,>=1.4 in c:\\users\\shrab\\appdata\\local\\programs\\python\\python39\\lib\\site-packages (from statsmodels) (2.2.3)\n",
      "Requirement already satisfied: patsy>=0.5.6 in c:\\users\\shrab\\appdata\\local\\programs\\python\\python39\\lib\\site-packages (from statsmodels) (1.0.1)\n",
      "Requirement already satisfied: scipy!=1.9.2,>=1.8 in c:\\users\\shrab\\appdata\\local\\programs\\python\\python39\\lib\\site-packages (from statsmodels) (1.13.1)\n",
      "Requirement already satisfied: numpy<3,>=1.22.3 in c:\\users\\shrab\\appdata\\local\\programs\\python\\python39\\lib\\site-packages (from statsmodels) (2.0.2)\n",
      "Requirement already satisfied: pytz>=2020.1 in c:\\users\\shrab\\appdata\\local\\programs\\python\\python39\\lib\\site-packages (from pandas!=2.1.0,>=1.4->statsmodels) (2025.2)\n",
      "Requirement already satisfied: python-dateutil>=2.8.2 in c:\\users\\shrab\\appdata\\roaming\\python\\python39\\site-packages (from pandas!=2.1.0,>=1.4->statsmodels) (2.9.0.post0)\n",
      "Requirement already satisfied: tzdata>=2022.7 in c:\\users\\shrab\\appdata\\local\\programs\\python\\python39\\lib\\site-packages (from pandas!=2.1.0,>=1.4->statsmodels) (2025.2)\n",
      "Requirement already satisfied: six>=1.5 in c:\\users\\shrab\\appdata\\roaming\\python\\python39\\site-packages (from python-dateutil>=2.8.2->pandas!=2.1.0,>=1.4->statsmodels) (1.17.0)\n",
      "Note: you may need to restart the kernel to use updated packages.\n"
     ]
    },
    {
     "name": "stderr",
     "output_type": "stream",
     "text": [
      "WARNING: You are using pip version 22.0.4; however, version 25.1.1 is available.\n",
      "You should consider upgrading via the 'c:\\Users\\shrab\\AppData\\Local\\Programs\\Python\\Python39\\python.exe -m pip install --upgrade pip' command.\n"
     ]
    }
   ],
   "source": [
    "%pip install statsmodels\n",
    "import statsmodels.api as sm\n"
   ]
  },
  {
   "cell_type": "code",
   "execution_count": 30,
   "id": "47fe9e29",
   "metadata": {},
   "outputs": [
    {
     "name": "stdout",
     "output_type": "stream",
     "text": [
      "                            OLS Regression Results                            \n",
      "==============================================================================\n",
      "Dep. Variable:           Weekly_Sales   R-squared:                       0.085\n",
      "Model:                            OLS   Adj. R-squared:                  0.059\n",
      "Method:                 Least Squares   F-statistic:                     3.212\n",
      "Date:                Mon, 09 Jun 2025   Prob (F-statistic):             0.0148\n",
      "Time:                        13:06:57   Log-Likelihood:                -1906.0\n",
      "No. Observations:                 143   AIC:                             3822.\n",
      "Df Residuals:                     138   BIC:                             3837.\n",
      "Df Model:                           4                                         \n",
      "Covariance Type:            nonrobust                                         \n",
      "================================================================================\n",
      "                   coef    std err          t      P>|t|      [0.025      0.975]\n",
      "--------------------------------------------------------------------------------\n",
      "const        -3.483e+06      3e+06     -1.160      0.248   -9.42e+06    2.45e+06\n",
      "Day_Index      235.8714   1426.938      0.165      0.869   -2585.618    3057.360\n",
      "CPI           1.986e+04   1.35e+04      1.466      0.145   -6930.717    4.66e+04\n",
      "Unemployment  1.249e+05   5.92e+04      2.110      0.037    7838.064    2.42e+05\n",
      "Fuel_Price   -6.746e+04   4.96e+04     -1.360      0.176   -1.66e+05    3.06e+04\n",
      "==============================================================================\n",
      "Omnibus:                       91.841   Durbin-Watson:                   1.544\n",
      "Prob(Omnibus):                  0.000   Jarque-Bera (JB):              632.993\n",
      "Skew:                           2.238   Prob(JB):                    3.53e-138\n",
      "Kurtosis:                      12.285   Cond. No.                     5.42e+04\n",
      "==============================================================================\n",
      "\n",
      "Notes:\n",
      "[1] Standard Errors assume that the covariance matrix of the errors is correctly specified.\n",
      "[2] The condition number is large, 5.42e+04. This might indicate that there are\n",
      "strong multicollinearity or other numerical problems.\n"
     ]
    }
   ],
   "source": [
    "import statsmodels.api as sm\n",
    "\n",
    "X = store1[[\"Day_Index\", \"CPI\", \"Unemployment\", \"Fuel_Price\"]]\n",
    "X = sm.add_constant(X)\n",
    "y = store1[\"Weekly_Sales\"]\n",
    "\n",
    "model = sm.OLS(y, X).fit()\n",
    "print(model.summary())"
   ]
  },
  {
   "cell_type": "code",
   "execution_count": null,
   "id": "b9812aff",
   "metadata": {},
   "outputs": [],
   "source": []
  },
  {
   "cell_type": "code",
   "execution_count": null,
   "id": "b32172bb",
   "metadata": {},
   "outputs": [],
   "source": []
  }
 ],
 "metadata": {
  "kernelspec": {
   "display_name": "Python 3",
   "language": "python",
   "name": "python3"
  },
  "language_info": {
   "codemirror_mode": {
    "name": "ipython",
    "version": 3
   },
   "file_extension": ".py",
   "mimetype": "text/x-python",
   "name": "python",
   "nbconvert_exporter": "python",
   "pygments_lexer": "ipython3",
   "version": "3.9.13"
  }
 },
 "nbformat": 4,
 "nbformat_minor": 5
}
